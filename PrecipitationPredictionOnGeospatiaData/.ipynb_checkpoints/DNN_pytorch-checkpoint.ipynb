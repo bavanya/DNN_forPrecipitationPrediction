{
 "cells": [
  {
   "cell_type": "code",
   "execution_count": null,
   "metadata": {},
   "outputs": [],
   "source": [
    "#pip3 install torch torchvision\n",
    "#pip3 install scipy\n",
    "#pip install scikit-learn"
   ]
  },
  {
   "cell_type": "code",
   "execution_count": 1,
   "metadata": {},
   "outputs": [],
   "source": [
    "import numpy as np\n",
    "import pandas as pd\n",
    "import xarray as xr\n",
    "import matplotlib.pyplot as plt\n",
    "import scipy.stats as stats\n",
    "from sklearn_xarray import wrap\n",
    "from sklearn.preprocessing import MinMaxScaler\n",
    "from sklearn.model_selection import train_test_split\n",
    "from sklearn.metrics import mean_squared_error\n",
    "from torch.autograd import Variable\n",
    "import torch\n",
    "import torch.nn as nn"
   ]
  },
  {
   "cell_type": "markdown",
   "metadata": {},
   "source": [
    "**Preparing the data for the model**"
   ]
  },
  {
   "cell_type": "code",
   "execution_count": 2,
   "metadata": {},
   "outputs": [],
   "source": [
    "def data_preparation(scaler):\n",
    "    \n",
    "    \"\"\"Deserializing the pickle file\"\"\"\n",
    "    df = pd.read_pickle(\"./wikilimoData.pkl\")\n",
    "    \n",
    "    \"\"\"Dropping the rows which have null values\n",
    "    Instead of interpolating we are dropping null values.\n",
    "    Since we have sufficiently large data, we can affort to lose \n",
    "    some of the rows, instead of compromising the accuracy\n",
    "    of the dataset by interpolating them. \n",
    "    \"\"\"\n",
    "    df= df.dropna()\n",
    "    \n",
    "    \"\"\"Appying log tranform to remove skewness of total precipitation\n",
    "    column values\n",
    "    \n",
    "    Must remember to apply inverse log to the prediction obtained to get \n",
    "    actual values\n",
    "    \"\"\"\n",
    "    df['tp'] = np.log(df['tp'])\n",
    "    \n",
    "    \"\"\"Performing min max normalization to \n",
    "    avoid higher influence of temperature at 2m compared to\n",
    "    volumetric soil water layer on predicting the precipitation\n",
    "    of a region.\"\"\"\n",
    "    df[list(df.columns)] = scaler.fit_transform(df[list(df.columns)])\n",
    "    \n",
    "    \"\"\"Taking respective columns for input and output of the model.\"\"\"\n",
    "    X = df[['t2m', 'swvl1']]\n",
    "    y = df[['tp']]\n",
    "    \n",
    "    return df, X, y"
   ]
  },
  {
   "cell_type": "code",
   "execution_count": 3,
   "metadata": {},
   "outputs": [],
   "source": [
    "def splittingData(X, y, random_state, test_size):\n",
    "    \n",
    "    x_train, x_test, y_train, y_test = train_test_split(X, y, random_state=random_state, test_size=test_size)\n",
    "    \n",
    "    x_train = Variable(torch.from_numpy(np.array(x_train.astype(float)))).type(torch.FloatTensor)\n",
    "    y_train = Variable(torch.from_numpy(np.array(y_train.astype(float)))).type(torch.FloatTensor)\n",
    "    x_test = Variable(torch.from_numpy(np.array(x_test.astype(float)))).type(torch.FloatTensor)\n",
    "    y_test = Variable(torch.from_numpy(np.array(y_test.astype(float)))).type(torch.FloatTensor)\n",
    "\n",
    "    return x_train, y_train, x_test, y_test"
   ]
  },
  {
   "cell_type": "code",
   "execution_count": 4,
   "metadata": {},
   "outputs": [],
   "source": [
    "scaler = MinMaxScaler(feature_range = (0,1))\n",
    "df, X, y = data_preparation(scaler)"
   ]
  },
  {
   "cell_type": "code",
   "execution_count": 5,
   "metadata": {},
   "outputs": [],
   "source": [
    "x_train, y_train, x_test, y_test = splittingData(X, y, 42, 0.2)"
   ]
  },
  {
   "cell_type": "code",
   "execution_count": 6,
   "metadata": {},
   "outputs": [
    {
     "data": {
      "text/plain": [
       "tensor([[0.0000],\n",
       "        [0.7333],\n",
       "        [0.0000],\n",
       "        ...,\n",
       "        [0.5198],\n",
       "        [0.3551],\n",
       "        [0.0000]])"
      ]
     },
     "execution_count": 6,
     "metadata": {},
     "output_type": "execute_result"
    }
   ],
   "source": [
    "y_train"
   ]
  },
  {
   "cell_type": "markdown",
   "metadata": {},
   "source": [
    "**Building the model**\n",
    "\n",
    "From the data visualization through plotting, we understood that \n",
    "the total precipitation of a specific geo spatial point varies wrt \n",
    "to the date highly but doesn't change much when comparing\n",
    "wrt to latitude and logitude, except for a few regions.\n",
    "\n",
    "But since the temperature at 2m and volumetric soil water layer also\n",
    "vary wrt to the time and latitude and longitude variables,\n",
    "we will build considering the simple case of just ignoring the \n",
    "time and geo spatial variables and predicting the total precipitation by considering\n",
    "dependence only on temperature at 2m and volumetric soil water layer.\n",
    "\n",
    "Since we have sufficiently large data, we can afford to take\n",
    "large % of dataset for training, but considering \n",
    "the computation power available to build the model\n",
    "we are taking the split to be 80:20 for training  and\n",
    "testing.\n",
    "\n",
    "Splitting the data.\n",
    "80% for training\n",
    "20% for testing and evaluating the model\n"
   ]
  },
  {
   "cell_type": "markdown",
   "metadata": {},
   "source": [
    "Applying sigmoid is done as we have normalized total precipitation in the preprocessing step, sigmoid ensures that the output of the model is also between 0 and 1 like the normalized \n",
    "total precipitation actual values."
   ]
  },
  {
   "cell_type": "code",
   "execution_count": 7,
   "metadata": {},
   "outputs": [],
   "source": [
    "class Neural_Network(nn.Module):\n",
    "    def __init__(self, ):\n",
    "        super(Neural_Network, self).__init__()\n",
    "        \n",
    "        \"\"\"parameters\"\"\"\n",
    "        self.inputSize = 2\n",
    "        self.outputSize = 1\n",
    "        self.hiddenSize = 3\n",
    "        \n",
    "        \"\"\"weights\n",
    "        Initialized with random values\n",
    "        \"\"\"\n",
    "        self.W1 = torch.randn(self.inputSize, self.hiddenSize) # 3 X 2 tensor\n",
    "        self.W2 = torch.randn(self.hiddenSize, self.outputSize) # 3 X 1 tensor\n",
    "        \n",
    "    def forward(self, X):\n",
    "        self.z = torch.matmul(X, self.W1) \n",
    "        self.z2 = self.sigmoid(self.z) # activation function\n",
    "        self.z3 = torch.matmul(self.z2, self.W2)\n",
    "        \"\"\"Applying sigmoid before taking output because since we normalized y_train we know\n",
    "        that the values are between 0 and 1, hence applying sigmoid guarantees this.\"\"\"\n",
    "        o = self.sigmoid(self.z3) # final activation function\n",
    "        return o\n",
    "        \n",
    "    def sigmoid(self, s):\n",
    "        return 1 / (1 + torch.exp(-s))\n",
    "    \n",
    "    def sigmoidPrime(self, s):\n",
    "        \"\"\"derivative of sigmoid\"\"\"\n",
    "        return s * (1 - s)\n",
    "    \n",
    "    def backward(self, X, y, o):\n",
    "        self.o_error = y - o\n",
    "        self.o_delta = self.o_error * self.sigmoidPrime(o)\n",
    "        \n",
    "        self.z2_error = torch.matmul(self.o_delta, torch.t(self.W2))\n",
    "        self.z2_delta = self.z2_error * self.sigmoidPrime(self.z2)\n",
    "        self.W1 += torch.matmul(torch.t(X), self.z2_delta)\n",
    "        self.W2 += torch.matmul(torch.t(self.z2), self.o_delta)\n",
    "        \n",
    "    def train(self, X, y):\n",
    "        \"\"\"forward + backward pass for training\"\"\"\n",
    "        o = self.forward(X)\n",
    "        self.backward(X, y, o)\n",
    "        \n",
    "    def saveWeights(self, model):\n",
    "        torch.save(model, \"NN\")\n",
    "        \n",
    "    def predict(self, x_test):\n",
    "        print (\"Predicted data based on trained weights: \")\n",
    "        print (\"Input (scaled): \\n\" + str(x_test))\n",
    "        y_pred = self.forward(x_test)\n",
    "        print (\"Output: \\n\" + str(y_pred))\n",
    "        return y_pred"
   ]
  },
  {
   "cell_type": "markdown",
   "metadata": {},
   "source": [
    "**Training the model**"
   ]
  },
  {
   "cell_type": "code",
   "execution_count": 8,
   "metadata": {},
   "outputs": [
    {
     "name": "stdout",
     "output_type": "stream",
     "text": [
      "#0 Loss: 0.4006926119327545\n",
      "#1 Loss: 0.10465307533740997\n",
      "#2 Loss: 0.10465307533740997\n",
      "#3 Loss: 0.10465307533740997\n",
      "#4 Loss: 0.10465307533740997\n",
      "#5 Loss: 0.10465307533740997\n",
      "#6 Loss: 0.10465307533740997\n",
      "#7 Loss: 0.10465307533740997\n",
      "#8 Loss: 0.10465307533740997\n",
      "#9 Loss: 0.10465307533740997\n"
     ]
    }
   ],
   "source": [
    "NN = Neural_Network()\n",
    "epochs = 10\n",
    "for i in range(epochs):\n",
    "    \"\"\"Displaying mean squared loss\"\"\"\n",
    "    print (\"#\" + str(i) + \" Loss: \" + str(torch.mean((y_train - NN(x_train))**2).detach().item()))\n",
    "    NN.train(x_train, y_train)"
   ]
  },
  {
   "cell_type": "markdown",
   "metadata": {},
   "source": [
    "**Obtaining predictions for x_test using the first model**"
   ]
  },
  {
   "cell_type": "code",
   "execution_count": 10,
   "metadata": {},
   "outputs": [
    {
     "name": "stdout",
     "output_type": "stream",
     "text": [
      "Predicted data based on trained weights: \n",
      "Input (scaled): \n",
      "tensor([[0.3150, 0.2658],\n",
      "        [0.8097, 0.4928],\n",
      "        [0.3558, 0.2662],\n",
      "        ...,\n",
      "        [0.3839, 0.3997],\n",
      "        [0.1419, 0.4237],\n",
      "        [0.2067, 0.4194]])\n",
      "Output: \n",
      "tensor([[0.5000],\n",
      "        [0.5000],\n",
      "        [0.5000],\n",
      "        ...,\n",
      "        [0.5000],\n",
      "        [0.5000],\n",
      "        [0.5000]])\n"
     ]
    }
   ],
   "source": [
    "#NN.saveWeights(NN)\n",
    "y_pred_tensor = NN.predict(x_test)"
   ]
  },
  {
   "cell_type": "code",
   "execution_count": 16,
   "metadata": {},
   "outputs": [
    {
     "data": {
      "image/png": "[encoded data removed]",
      "text/plain": [
       "<Figure size 432x288 with 1 Axes>"
      ]
     },
     "metadata": {
      "needs_background": "light"
     },
     "output_type": "display_data"
    }
   ],
   "source": [
    "a = plt.axes(aspect='equal')\n",
    "plt.scatter(y_test.numpy(), y_pred_tensor.numpy())\n",
    "plt.xlabel('True Values [MPG]')\n",
    "plt.ylabel('Predictions [MPG]')\n",
    "lims = [0, 1]\n",
    "plt.xlim(lims)\n",
    "plt.ylim(lims)\n",
    "_ = plt.plot(lims, lims)"
   ]
  },
  {
   "cell_type": "markdown",
   "metadata": {},
   "source": [
    "From the scatter plot, we see that all the values are clustered at\n",
    "0.5 , this is a very serious case of underfitting.\n",
    "\n",
    "Since it is underfitting, we have to add a few more layers and re built the model.\n",
    "\n",
    "Since we developed a very simple model, there is no need of using \n",
    "aggressive techniques to avoid overfitting like optmizers, using momentum variable to gradually reduce the learning rate.\n",
    "\n",
    "We could also add weight regularization to the loss function, to avoid overfitting but since our model is underfitting and not \n",
    "overfitting, we have not added it.\n",
    "\n",
    "Also could have considered adding drop out to few of the layers.\n",
    "\n",
    "Also we could have added few combinations of the above techniques together."
   ]
  },
  {
   "cell_type": "markdown",
   "metadata": {},
   "source": [
    "**Evaluation of the model**"
   ]
  },
  {
   "cell_type": "code",
   "execution_count": 17,
   "metadata": {},
   "outputs": [],
   "source": [
    "y_pred_numpy = y_pred_tensor.numpy()\n",
    "y_pred_dataframe = pd.DataFrame(y_pred_numpy)\n",
    "    \n",
    "y_test_numpy = y_test.numpy()\n",
    "y_test_dataframe = pd.DataFrame(y_test_numpy)"
   ]
  },
  {
   "cell_type": "code",
   "execution_count": 23,
   "metadata": {},
   "outputs": [],
   "source": [
    "MSE = mean_squared_error(y_test_numpy, y_pred_numpy)"
   ]
  },
  {
   "cell_type": "code",
   "execution_count": 24,
   "metadata": {},
   "outputs": [
    {
     "name": "stdout",
     "output_type": "stream",
     "text": [
      "\n",
      "Mean squared error: 0.104631\n"
     ]
    }
   ],
   "source": [
    "print('\\nMean squared error: %f'%MSE)"
   ]
  },
  {
   "cell_type": "markdown",
   "metadata": {},
   "source": [
    "Taking MSE as the metric, evaluate the model.\n",
    "Inputs:\n",
    "1.y_test_dataframe 2. y_pred_dataframe\n",
    "\n",
    "Not taking Mean absolute precentage error as metric here since few of values are 0,\n",
    "hence MAPE would give divide by zero error and would not be able to evaluate. "
   ]
  },
  {
   "cell_type": "code",
   "execution_count": 25,
   "metadata": {},
   "outputs": [
    {
     "data": {
      "image/png": "[encoded data removed]",
      "text/plain": [
       "<Figure size 432x288 with 1 Axes>"
      ]
     },
     "metadata": {
      "needs_background": "light"
     },
     "output_type": "display_data"
    }
   ],
   "source": [
    "error = y_pred_numpy - y_test_numpy\n",
    "plt.hist(error, bins=25)\n",
    "plt.xlabel('Prediction Error [MPG]')\n",
    "_ = plt.ylabel('Count')"
   ]
  },
  {
   "cell_type": "markdown",
   "metadata": {},
   "source": [
    "Histogram to visualize the error distribution\n",
    "\n",
    "From the histogram we see that most of the prediction error is less than zero and for huge cases it is between 0.4 and 0.5."
   ]
  },
  {
   "cell_type": "markdown",
   "metadata": {},
   "source": [
    "**Inversing the transformations and scaling to actual values of total precipitation**"
   ]
  },
  {
   "cell_type": "code",
   "execution_count": 29,
   "metadata": {},
   "outputs": [],
   "source": [
    "def inverse_transformation_and_scaling(y_pred_dataframe, y_test_dataframe):\n",
    "    \n",
    "    y_pred_dataframe['My new column'] = 0\n",
    "    y_pred_dataframe['My new column1'] = 0\n",
    "    y_pred_dataframe = scaler.inverse_transform(y_pred_dataframe)[:, [0]]\n",
    "    y_actual_predictions = np.exp(y_pred_dataframe)\n",
    "    \n",
    "    y_test_dataframe['My new column'] = 0\n",
    "    y_test_dataframe['My new column1'] = 0\n",
    "    y_test_dataframe = scaler.inverse_transform(y_test_dataframe)[:, [0]]\n",
    "    y_test_original = np.exp(y_test_dataframe)\n",
    "    \n",
    "    return y_test_original, y_actual_predictions"
   ]
  },
  {
   "cell_type": "code",
   "execution_count": 30,
   "metadata": {},
   "outputs": [],
   "source": [
    "y_test_original, y_actual_predictions = inverse_transformation_and_scaling(y_pred_dataframe, y_test_dataframe)"
   ]
  },
  {
   "cell_type": "markdown",
   "metadata": {},
   "source": [
    "**Building 2nd model**"
   ]
  },
  {
   "cell_type": "code",
   "execution_count": 7,
   "metadata": {},
   "outputs": [],
   "source": [
    "DROPOUT_PROB = 0.9\n",
    "\n",
    "LR = 0.001\n",
    "MOMENTUM= 0.99\n",
    "dropout = torch.nn.Dropout(p=1 - (DROPOUT_PROB))\n",
    "\n",
    "hiddenLayer1Size=64\n",
    "hiddenLayer2Size=int(hiddenLayer1Size/4)\n",
    "\n",
    "#Neural Network layers\n",
    "linear1=torch.nn.Linear(2, hiddenLayer1Size, bias=True) \n",
    "linear2=torch.nn.Linear(hiddenLayer1Size, hiddenLayer2Size)\n",
    "linear3=torch.nn.Linear(hiddenLayer2Size, 1)\n",
    "sigmoid = torch.nn.Sigmoid()\n",
    "threshold = nn.Threshold(0.5, 0)\n",
    "relu=torch.nn.LeakyReLU()\n",
    "\n",
    "#Neural network architecture\n",
    "net = torch.nn.Sequential(linear1,relu,\n",
    "                          linear2,dropout,relu,\n",
    "                          linear3,relu,\n",
    "                          sigmoid\n",
    "                          )\n",
    "\n",
    "optimizer = torch.optim.Adam(net.parameters(), lr=LR,weight_decay=5e-3)\n",
    "loss_func=torch.nn.MSELoss()\n",
    "epochs = 1\n",
    "all_losses = []"
   ]
  },
  {
   "cell_type": "markdown",
   "metadata": {},
   "source": [
    "Adding drop out, momentum, weight decay for better performance of the model.\n",
    "\n",
    "Adding relu activation layer after every layer except the last layer as \n",
    "we dont want to restrict the values obtained between the layers between 0 and 1 \n",
    "but we want them all to be postive.\n",
    "\n",
    "And since we want the output to be between 0 and 1 only we are applying sigmoid at the end."
   ]
  },
  {
   "cell_type": "markdown",
   "metadata": {},
   "source": [
    "**Training the 2nd model**"
   ]
  },
  {
   "cell_type": "code",
   "execution_count": null,
   "metadata": {},
   "outputs": [],
   "source": [
    "#Training in batches\n",
    "for step in range(epochs):    \n",
    "    out = net(x_train).data                 # input x and predict based on x\n",
    "    cost = loss_func(out, y_train) \n",
    "    optimizer.zero_grad()   # clear gradients for next train\n",
    "    cost.backward()         # backpropagation, compute gradients\n",
    "    optimizer.step()        # apply gradients \n",
    "               \n",
    "    loss = cost\n",
    "    all_losses.append(loss)\n",
    "    print(step, cost.numpy())"
   ]
  },
  {
   "cell_type": "markdown",
   "metadata": {},
   "source": [
    "**Obtaining predictions using the 2nd model**"
   ]
  },
  {
   "cell_type": "code",
   "execution_count": null,
   "metadata": {},
   "outputs": [],
   "source": [
    "prediction = net(x_test).data      \n",
    "print (\"Pred:\" + str (prediction))      \n",
    "pred_y = prediction.numpy().squeeze()\n",
    "target_y = y_test.numpy()\n",
    "print ('Mean squared error ={} '.format(mean_squared_error(target_y, pred_y))) "
   ]
  },
  {
   "cell_type": "markdown",
   "metadata": {},
   "source": [
    "We could not train the 2nd model because of limited computation power.\n",
    "\n",
    "If it were overfitting we would have removed a hidden layer or changed the layer size and checked.\n",
    "\n",
    "We could have taken the following arcitecture:\n",
    "\n",
    "input layer (None, 3)                      \n",
    "_________________________________________________________________\n",
    "dense (Dense)                (None, 32)                     \n",
    "_________________________________________________________________\n",
    "dense_1 (Dense)              (None, 16)                     \n",
    "_________________________________________________________________\n",
    "dense_2 (Dense)              (None, 1)                      \n",
    "_________________________________________________________________\n",
    "\n",
    "Or: \n",
    "\n",
    "input layer (Normalization (None, 3)                  \n",
    "_________________________________________________________________\n",
    "dense (Dense)                (None, 64)            \n",
    "_________________________________________________________________\n",
    "dense_2 (Dense)              (None, 1)                      \n",
    "_________________________________________________________________\n"
   ]
  },
  {
   "cell_type": "code",
   "execution_count": null,
   "metadata": {},
   "outputs": [],
   "source": []
  }
 ],
 "metadata": {
  "kernelspec": {
   "display_name": "Python 3",
   "language": "python",
   "name": "python3"
  },
  "language_info": {
   "codemirror_mode": {
    "name": "ipython",
    "version": 3
   },
   "file_extension": ".py",
   "mimetype": "text/x-python",
   "name": "python",
   "nbconvert_exporter": "python",
   "pygments_lexer": "ipython3",
   "version": "3.8.3"
  }
 },
 "nbformat": 4,
 "nbformat_minor": 4
}
