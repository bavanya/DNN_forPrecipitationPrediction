{
 "cells": [
  {
   "cell_type": "code",
   "execution_count": 1,
   "metadata": {},
   "outputs": [],
   "source": [
    "#pip install git+https://github.com/uber/ludwig\n",
    "#python -m spacy download en\n",
    "#!pip3 install --upgrade tensorflow\n",
    "#!pip install -q seaborn"
   ]
  },
  {
   "cell_type": "code",
   "execution_count": 1,
   "metadata": {},
   "outputs": [],
   "source": [
    "import numpy as np\n",
    "import pandas as pd\n",
    "import xarray as xr\n",
    "import matplotlib.pyplot as plt\n",
    "import seaborn as sns\n",
    "import scipy.stats as stats\n",
    "from sklearn_xarray import wrap\n",
    "from sklearn.preprocessing import MinMaxScaler\n",
    "#from ludwig.api import LudwigModel\n",
    "#from ludwig.utils.data_utils import add_sequence_feature_column\n",
    "import tensorflow as tf\n",
    "from tensorflow import keras\n",
    "from tensorflow.keras import layers\n",
    "from tensorflow.keras.layers.experimental import preprocessing"
   ]
  },
  {
   "cell_type": "markdown",
   "metadata": {},
   "source": [
    "**OBTAINING THE DATASET**"
   ]
  },
  {
   "cell_type": "code",
   "execution_count": 3,
   "metadata": {},
   "outputs": [
    {
     "data": {
      "text/html": [
       "<div><svg style=\"position: absolute; width: 0; height: 0; overflow: hidden\">\n",
       "<defs>\n",
       "<symbol id=\"icon-database\" viewBox=\"0 0 32 32\">\n",
       "<path d=\"M16 0c-8.837 0-16 2.239-16 5v4c0 2.761 7.163 5 16 5s16-2.239 16-5v-4c0-2.761-7.163-5-16-5z\"></path>\n",
       "<path d=\"M16 17c-8.837 0-16-2.239-16-5v6c0 2.761 7.163 5 16 5s16-2.239 16-5v-6c0 2.761-7.163 5-16 5z\"></path>\n",
       "<path d=\"M16 26c-8.837 0-16-2.239-16-5v6c0 2.761 7.163 5 16 5s16-2.239 16-5v-6c0 2.761-7.163 5-16 5z\"></path>\n",
       "</symbol>\n",
       "<symbol id=\"icon-file-text2\" viewBox=\"0 0 32 32\">\n",
       "<path d=\"M28.681 7.159c-0.694-0.947-1.662-2.053-2.724-3.116s-2.169-2.030-3.116-2.724c-1.612-1.182-2.393-1.319-2.841-1.319h-15.5c-1.378 0-2.5 1.121-2.5 2.5v27c0 1.378 1.122 2.5 2.5 2.5h23c1.378 0 2.5-1.122 2.5-2.5v-19.5c0-0.448-0.137-1.23-1.319-2.841zM24.543 5.457c0.959 0.959 1.712 1.825 2.268 2.543h-4.811v-4.811c0.718 0.556 1.584 1.309 2.543 2.268zM28 29.5c0 0.271-0.229 0.5-0.5 0.5h-23c-0.271 0-0.5-0.229-0.5-0.5v-27c0-0.271 0.229-0.5 0.5-0.5 0 0 15.499-0 15.5 0v7c0 0.552 0.448 1 1 1h7v19.5z\"></path>\n",
       "<path d=\"M23 26h-14c-0.552 0-1-0.448-1-1s0.448-1 1-1h14c0.552 0 1 0.448 1 1s-0.448 1-1 1z\"></path>\n",
       "<path d=\"M23 22h-14c-0.552 0-1-0.448-1-1s0.448-1 1-1h14c0.552 0 1 0.448 1 1s-0.448 1-1 1z\"></path>\n",
       "<path d=\"M23 18h-14c-0.552 0-1-0.448-1-1s0.448-1 1-1h14c0.552 0 1 0.448 1 1s-0.448 1-1 1z\"></path>\n",
       "</symbol>\n",
       "</defs>\n",
       "</svg>\n",
       "<style>/* CSS stylesheet for displaying xarray objects in jupyterlab.\n",
       " *\n",
       " */\n",
       "\n",
       ":root {\n",
       "  --xr-font-color0: var(--jp-content-font-color0, rgba(0, 0, 0, 1));\n",
       "  --xr-font-color2: var(--jp-content-font-color2, rgba(0, 0, 0, 0.54));\n",
       "  --xr-font-color3: var(--jp-content-font-color3, rgba(0, 0, 0, 0.38));\n",
       "  --xr-border-color: var(--jp-border-color2, #e0e0e0);\n",
       "  --xr-disabled-color: var(--jp-layout-color3, #bdbdbd);\n",
       "  --xr-background-color: var(--jp-layout-color0, white);\n",
       "  --xr-background-color-row-even: var(--jp-layout-color1, white);\n",
       "  --xr-background-color-row-odd: var(--jp-layout-color2, #eeeeee);\n",
       "}\n",
       "\n",
       "html[theme=dark],\n",
       "body.vscode-dark {\n",
       "  --xr-font-color0: rgba(255, 255, 255, 1);\n",
       "  --xr-font-color2: rgba(255, 255, 255, 0.54);\n",
       "  --xr-font-color3: rgba(255, 255, 255, 0.38);\n",
       "  --xr-border-color: #1F1F1F;\n",
       "  --xr-disabled-color: #515151;\n",
       "  --xr-background-color: #111111;\n",
       "  --xr-background-color-row-even: #111111;\n",
       "  --xr-background-color-row-odd: #313131;\n",
       "}\n",
       "\n",
       ".xr-wrap {\n",
       "  display: block;\n",
       "  min-width: 300px;\n",
       "  max-width: 700px;\n",
       "}\n",
       "\n",
       ".xr-text-repr-fallback {\n",
       "  /* fallback to plain text repr when CSS is not injected (untrusted notebook) */\n",
       "  display: none;\n",
       "}\n",
       "\n",
       ".xr-header {\n",
       "  padding-top: 6px;\n",
       "  padding-bottom: 6px;\n",
       "  margin-bottom: 4px;\n",
       "  border-bottom: solid 1px var(--xr-border-color);\n",
       "}\n",
       "\n",
       ".xr-header > div,\n",
       ".xr-header > ul {\n",
       "  display: inline;\n",
       "  margin-top: 0;\n",
       "  margin-bottom: 0;\n",
       "}\n",
       "\n",
       ".xr-obj-type,\n",
       ".xr-array-name {\n",
       "  margin-left: 2px;\n",
       "  margin-right: 10px;\n",
       "}\n",
       "\n",
       ".xr-obj-type {\n",
       "  color: var(--xr-font-color2);\n",
       "}\n",
       "\n",
       ".xr-sections {\n",
       "  padding-left: 0 !important;\n",
       "  display: grid;\n",
       "  grid-template-columns: 150px auto auto 1fr 20px 20px;\n",
       "}\n",
       "\n",
       ".xr-section-item {\n",
       "  display: contents;\n",
       "}\n",
       "\n",
       ".xr-section-item input {\n",
       "  display: none;\n",
       "}\n",
       "\n",
       ".xr-section-item input + label {\n",
       "  color: var(--xr-disabled-color);\n",
       "}\n",
       "\n",
       ".xr-section-item input:enabled + label {\n",
       "  cursor: pointer;\n",
       "  color: var(--xr-font-color2);\n",
       "}\n",
       "\n",
       ".xr-section-item input:enabled + label:hover {\n",
       "  color: var(--xr-font-color0);\n",
       "}\n",
       "\n",
       ".xr-section-summary {\n",
       "  grid-column: 1;\n",
       "  color: var(--xr-font-color2);\n",
       "  font-weight: 500;\n",
       "}\n",
       "\n",
       ".xr-section-summary > span {\n",
       "  display: inline-block;\n",
       "  padding-left: 0.5em;\n",
       "}\n",
       "\n",
       ".xr-section-summary-in:disabled + label {\n",
       "  color: var(--xr-font-color2);\n",
       "}\n",
       "\n",
       ".xr-section-summary-in + label:before {\n",
       "  display: inline-block;\n",
       "  content: '►';\n",
       "  font-size: 11px;\n",
       "  width: 15px;\n",
       "  text-align: center;\n",
       "}\n",
       "\n",
       ".xr-section-summary-in:disabled + label:before {\n",
       "  color: var(--xr-disabled-color);\n",
       "}\n",
       "\n",
       ".xr-section-summary-in:checked + label:before {\n",
       "  content: '▼';\n",
       "}\n",
       "\n",
       ".xr-section-summary-in:checked + label > span {\n",
       "  display: none;\n",
       "}\n",
       "\n",
       ".xr-section-summary,\n",
       ".xr-section-inline-details {\n",
       "  padding-top: 4px;\n",
       "  padding-bottom: 4px;\n",
       "}\n",
       "\n",
       ".xr-section-inline-details {\n",
       "  grid-column: 2 / -1;\n",
       "}\n",
       "\n",
       ".xr-section-details {\n",
       "  display: none;\n",
       "  grid-column: 1 / -1;\n",
       "  margin-bottom: 5px;\n",
       "}\n",
       "\n",
       ".xr-section-summary-in:checked ~ .xr-section-details {\n",
       "  display: contents;\n",
       "}\n",
       "\n",
       ".xr-array-wrap {\n",
       "  grid-column: 1 / -1;\n",
       "  display: grid;\n",
       "  grid-template-columns: 20px auto;\n",
       "}\n",
       "\n",
       ".xr-array-wrap > label {\n",
       "  grid-column: 1;\n",
       "  vertical-align: top;\n",
       "}\n",
       "\n",
       ".xr-preview {\n",
       "  color: var(--xr-font-color3);\n",
       "}\n",
       "\n",
       ".xr-array-preview,\n",
       ".xr-array-data {\n",
       "  padding: 0 5px !important;\n",
       "  grid-column: 2;\n",
       "}\n",
       "\n",
       ".xr-array-data,\n",
       ".xr-array-in:checked ~ .xr-array-preview {\n",
       "  display: none;\n",
       "}\n",
       "\n",
       ".xr-array-in:checked ~ .xr-array-data,\n",
       ".xr-array-preview {\n",
       "  display: inline-block;\n",
       "}\n",
       "\n",
       ".xr-dim-list {\n",
       "  display: inline-block !important;\n",
       "  list-style: none;\n",
       "  padding: 0 !important;\n",
       "  margin: 0;\n",
       "}\n",
       "\n",
       ".xr-dim-list li {\n",
       "  display: inline-block;\n",
       "  padding: 0;\n",
       "  margin: 0;\n",
       "}\n",
       "\n",
       ".xr-dim-list:before {\n",
       "  content: '(';\n",
       "}\n",
       "\n",
       ".xr-dim-list:after {\n",
       "  content: ')';\n",
       "}\n",
       "\n",
       ".xr-dim-list li:not(:last-child):after {\n",
       "  content: ',';\n",
       "  padding-right: 5px;\n",
       "}\n",
       "\n",
       ".xr-has-index {\n",
       "  font-weight: bold;\n",
       "}\n",
       "\n",
       ".xr-var-list,\n",
       ".xr-var-item {\n",
       "  display: contents;\n",
       "}\n",
       "\n",
       ".xr-var-item > div,\n",
       ".xr-var-item label,\n",
       ".xr-var-item > .xr-var-name span {\n",
       "  background-color: var(--xr-background-color-row-even);\n",
       "  margin-bottom: 0;\n",
       "}\n",
       "\n",
       ".xr-var-item > .xr-var-name:hover span {\n",
       "  padding-right: 5px;\n",
       "}\n",
       "\n",
       ".xr-var-list > li:nth-child(odd) > div,\n",
       ".xr-var-list > li:nth-child(odd) > label,\n",
       ".xr-var-list > li:nth-child(odd) > .xr-var-name span {\n",
       "  background-color: var(--xr-background-color-row-odd);\n",
       "}\n",
       "\n",
       ".xr-var-name {\n",
       "  grid-column: 1;\n",
       "}\n",
       "\n",
       ".xr-var-dims {\n",
       "  grid-column: 2;\n",
       "}\n",
       "\n",
       ".xr-var-dtype {\n",
       "  grid-column: 3;\n",
       "  text-align: right;\n",
       "  color: var(--xr-font-color2);\n",
       "}\n",
       "\n",
       ".xr-var-preview {\n",
       "  grid-column: 4;\n",
       "}\n",
       "\n",
       ".xr-var-name,\n",
       ".xr-var-dims,\n",
       ".xr-var-dtype,\n",
       ".xr-preview,\n",
       ".xr-attrs dt {\n",
       "  white-space: nowrap;\n",
       "  overflow: hidden;\n",
       "  text-overflow: ellipsis;\n",
       "  padding-right: 10px;\n",
       "}\n",
       "\n",
       ".xr-var-name:hover,\n",
       ".xr-var-dims:hover,\n",
       ".xr-var-dtype:hover,\n",
       ".xr-attrs dt:hover {\n",
       "  overflow: visible;\n",
       "  width: auto;\n",
       "  z-index: 1;\n",
       "}\n",
       "\n",
       ".xr-var-attrs,\n",
       ".xr-var-data {\n",
       "  display: none;\n",
       "  background-color: var(--xr-background-color) !important;\n",
       "  padding-bottom: 5px !important;\n",
       "}\n",
       "\n",
       ".xr-var-attrs-in:checked ~ .xr-var-attrs,\n",
       ".xr-var-data-in:checked ~ .xr-var-data {\n",
       "  display: block;\n",
       "}\n",
       "\n",
       ".xr-var-data > table {\n",
       "  float: right;\n",
       "}\n",
       "\n",
       ".xr-var-name span,\n",
       ".xr-var-data,\n",
       ".xr-attrs {\n",
       "  padding-left: 25px !important;\n",
       "}\n",
       "\n",
       ".xr-attrs,\n",
       ".xr-var-attrs,\n",
       ".xr-var-data {\n",
       "  grid-column: 1 / -1;\n",
       "}\n",
       "\n",
       "dl.xr-attrs {\n",
       "  padding: 0;\n",
       "  margin: 0;\n",
       "  display: grid;\n",
       "  grid-template-columns: 125px auto;\n",
       "}\n",
       "\n",
       ".xr-attrs dt,\n",
       ".xr-attrs dd {\n",
       "  padding: 0;\n",
       "  margin: 0;\n",
       "  float: left;\n",
       "  padding-right: 10px;\n",
       "  width: auto;\n",
       "}\n",
       "\n",
       ".xr-attrs dt {\n",
       "  font-weight: normal;\n",
       "  grid-column: 1;\n",
       "}\n",
       "\n",
       ".xr-attrs dt:hover span {\n",
       "  display: inline-block;\n",
       "  background: var(--xr-background-color);\n",
       "  padding-right: 10px;\n",
       "}\n",
       "\n",
       ".xr-attrs dd {\n",
       "  grid-column: 2;\n",
       "  white-space: pre-wrap;\n",
       "  word-break: break-all;\n",
       "}\n",
       "\n",
       ".xr-icon-database,\n",
       ".xr-icon-file-text2 {\n",
       "  display: inline-block;\n",
       "  vertical-align: middle;\n",
       "  width: 1em;\n",
       "  height: 1.5em !important;\n",
       "  stroke-width: 0;\n",
       "  stroke: currentColor;\n",
       "  fill: currentColor;\n",
       "}\n",
       "</style><pre class='xr-text-repr-fallback'>&lt;xarray.Dataset&gt;\n",
       "Dimensions:    (latitude: 1801, longitude: 3600, time: 31)\n",
       "Coordinates:\n",
       "  * longitude  (longitude) float32 0.0 0.1 0.2 0.3 ... 359.6 359.7 359.8 359.9\n",
       "  * latitude   (latitude) float32 90.0 89.9 89.8 89.7 ... -89.8 -89.9 -90.0\n",
       "  * time       (time) datetime64[ns] 2019-12-01T12:00:00 ... 2019-12-31T12:00:00\n",
       "Data variables:\n",
       "    t2m        (time, latitude, longitude) float32 ...\n",
       "    tp         (time, latitude, longitude) float32 ...\n",
       "    swvl1      (time, latitude, longitude) float32 ...\n",
       "Attributes:\n",
       "    Conventions:  CF-1.6\n",
       "    history:      2020-11-25 11:37:48 GMT by grib_to_netcdf-2.16.0: /opt/ecmw...</pre><div class='xr-wrap' hidden><div class='xr-header'><div class='xr-obj-type'>xarray.Dataset</div></div><ul class='xr-sections'><li class='xr-section-item'><input id='section-a9848727-d882-40be-9279-860010ff3246' class='xr-section-summary-in' type='checkbox' disabled ><label for='section-a9848727-d882-40be-9279-860010ff3246' class='xr-section-summary'  title='Expand/collapse section'>Dimensions:</label><div class='xr-section-inline-details'><ul class='xr-dim-list'><li><span class='xr-has-index'>latitude</span>: 1801</li><li><span class='xr-has-index'>longitude</span>: 3600</li><li><span class='xr-has-index'>time</span>: 31</li></ul></div><div class='xr-section-details'></div></li><li class='xr-section-item'><input id='section-05b20158-f4cf-4fb0-b4d9-73e4486e34c5' class='xr-section-summary-in' type='checkbox'  checked><label for='section-05b20158-f4cf-4fb0-b4d9-73e4486e34c5' class='xr-section-summary' >Coordinates: <span>(3)</span></label><div class='xr-section-inline-details'></div><div class='xr-section-details'><ul class='xr-var-list'><li class='xr-var-item'><div class='xr-var-name'><span class='xr-has-index'>longitude</span></div><div class='xr-var-dims'>(longitude)</div><div class='xr-var-dtype'>float32</div><div class='xr-var-preview xr-preview'>0.0 0.1 0.2 ... 359.7 359.8 359.9</div><input id='attrs-a56e2ff2-a38a-4350-9c5b-aae4b3597078' class='xr-var-attrs-in' type='checkbox' ><label for='attrs-a56e2ff2-a38a-4350-9c5b-aae4b3597078' title='Show/Hide attributes'><svg class='icon xr-icon-file-text2'><use xlink:href='#icon-file-text2'></use></svg></label><input id='data-4d8fa30f-f4d6-4caf-be0d-dbf63fc8b7e6' class='xr-var-data-in' type='checkbox'><label for='data-4d8fa30f-f4d6-4caf-be0d-dbf63fc8b7e6' title='Show/Hide data repr'><svg class='icon xr-icon-database'><use xlink:href='#icon-database'></use></svg></label><div class='xr-var-attrs'><dl class='xr-attrs'><dt><span>units :</span></dt><dd>degrees_east</dd><dt><span>long_name :</span></dt><dd>longitude</dd></dl></div><div class='xr-var-data'><pre>array([0.000e+00, 1.000e-01, 2.000e-01, ..., 3.597e+02, 3.598e+02, 3.599e+02],\n",
       "      dtype=float32)</pre></div></li><li class='xr-var-item'><div class='xr-var-name'><span class='xr-has-index'>latitude</span></div><div class='xr-var-dims'>(latitude)</div><div class='xr-var-dtype'>float32</div><div class='xr-var-preview xr-preview'>90.0 89.9 89.8 ... -89.9 -90.0</div><input id='attrs-17acdb50-0e91-43f5-bb19-1a3a281836b0' class='xr-var-attrs-in' type='checkbox' ><label for='attrs-17acdb50-0e91-43f5-bb19-1a3a281836b0' title='Show/Hide attributes'><svg class='icon xr-icon-file-text2'><use xlink:href='#icon-file-text2'></use></svg></label><input id='data-ca4d01c5-1629-4a10-a852-4166ea3a2b63' class='xr-var-data-in' type='checkbox'><label for='data-ca4d01c5-1629-4a10-a852-4166ea3a2b63' title='Show/Hide data repr'><svg class='icon xr-icon-database'><use xlink:href='#icon-database'></use></svg></label><div class='xr-var-attrs'><dl class='xr-attrs'><dt><span>units :</span></dt><dd>degrees_north</dd><dt><span>long_name :</span></dt><dd>latitude</dd></dl></div><div class='xr-var-data'><pre>array([ 90. ,  89.9,  89.8, ..., -89.8, -89.9, -90. ], dtype=float32)</pre></div></li><li class='xr-var-item'><div class='xr-var-name'><span class='xr-has-index'>time</span></div><div class='xr-var-dims'>(time)</div><div class='xr-var-dtype'>datetime64[ns]</div><div class='xr-var-preview xr-preview'>2019-12-01T12:00:00 ... 2019-12-...</div><input id='attrs-0b3787c6-d6b0-4253-a185-e5b1c074480e' class='xr-var-attrs-in' type='checkbox' ><label for='attrs-0b3787c6-d6b0-4253-a185-e5b1c074480e' title='Show/Hide attributes'><svg class='icon xr-icon-file-text2'><use xlink:href='#icon-file-text2'></use></svg></label><input id='data-1f49fa84-0859-492a-8a8f-8b966bef6057' class='xr-var-data-in' type='checkbox'><label for='data-1f49fa84-0859-492a-8a8f-8b966bef6057' title='Show/Hide data repr'><svg class='icon xr-icon-database'><use xlink:href='#icon-database'></use></svg></label><div class='xr-var-attrs'><dl class='xr-attrs'><dt><span>long_name :</span></dt><dd>time</dd></dl></div><div class='xr-var-data'><pre>array([&#x27;2019-12-01T12:00:00.000000000&#x27;, &#x27;2019-12-02T12:00:00.000000000&#x27;,\n",
       "       &#x27;2019-12-03T12:00:00.000000000&#x27;, &#x27;2019-12-04T12:00:00.000000000&#x27;,\n",
       "       &#x27;2019-12-05T12:00:00.000000000&#x27;, &#x27;2019-12-06T12:00:00.000000000&#x27;,\n",
       "       &#x27;2019-12-07T12:00:00.000000000&#x27;, &#x27;2019-12-08T12:00:00.000000000&#x27;,\n",
       "       &#x27;2019-12-09T12:00:00.000000000&#x27;, &#x27;2019-12-10T12:00:00.000000000&#x27;,\n",
       "       &#x27;2019-12-11T12:00:00.000000000&#x27;, &#x27;2019-12-12T12:00:00.000000000&#x27;,\n",
       "       &#x27;2019-12-13T12:00:00.000000000&#x27;, &#x27;2019-12-14T12:00:00.000000000&#x27;,\n",
       "       &#x27;2019-12-15T12:00:00.000000000&#x27;, &#x27;2019-12-16T12:00:00.000000000&#x27;,\n",
       "       &#x27;2019-12-17T12:00:00.000000000&#x27;, &#x27;2019-12-18T12:00:00.000000000&#x27;,\n",
       "       &#x27;2019-12-19T12:00:00.000000000&#x27;, &#x27;2019-12-20T12:00:00.000000000&#x27;,\n",
       "       &#x27;2019-12-21T12:00:00.000000000&#x27;, &#x27;2019-12-22T12:00:00.000000000&#x27;,\n",
       "       &#x27;2019-12-23T12:00:00.000000000&#x27;, &#x27;2019-12-24T12:00:00.000000000&#x27;,\n",
       "       &#x27;2019-12-25T12:00:00.000000000&#x27;, &#x27;2019-12-26T12:00:00.000000000&#x27;,\n",
       "       &#x27;2019-12-27T12:00:00.000000000&#x27;, &#x27;2019-12-28T12:00:00.000000000&#x27;,\n",
       "       &#x27;2019-12-29T12:00:00.000000000&#x27;, &#x27;2019-12-30T12:00:00.000000000&#x27;,\n",
       "       &#x27;2019-12-31T12:00:00.000000000&#x27;], dtype=&#x27;datetime64[ns]&#x27;)</pre></div></li></ul></div></li><li class='xr-section-item'><input id='section-cc6bb4bf-3db8-4b76-9c34-93f55340682d' class='xr-section-summary-in' type='checkbox'  checked><label for='section-cc6bb4bf-3db8-4b76-9c34-93f55340682d' class='xr-section-summary' >Data variables: <span>(3)</span></label><div class='xr-section-inline-details'></div><div class='xr-section-details'><ul class='xr-var-list'><li class='xr-var-item'><div class='xr-var-name'><span>t2m</span></div><div class='xr-var-dims'>(time, latitude, longitude)</div><div class='xr-var-dtype'>float32</div><div class='xr-var-preview xr-preview'>...</div><input id='attrs-44277aaf-01de-4542-ad92-024375781a6d' class='xr-var-attrs-in' type='checkbox' ><label for='attrs-44277aaf-01de-4542-ad92-024375781a6d' title='Show/Hide attributes'><svg class='icon xr-icon-file-text2'><use xlink:href='#icon-file-text2'></use></svg></label><input id='data-3835e387-51bb-42cb-8f61-cb09384f6564' class='xr-var-data-in' type='checkbox'><label for='data-3835e387-51bb-42cb-8f61-cb09384f6564' title='Show/Hide data repr'><svg class='icon xr-icon-database'><use xlink:href='#icon-database'></use></svg></label><div class='xr-var-attrs'><dl class='xr-attrs'><dt><span>units :</span></dt><dd>K</dd><dt><span>long_name :</span></dt><dd>2 metre temperature</dd></dl></div><div class='xr-var-data'><pre>[200991600 values with dtype=float32]</pre></div></li><li class='xr-var-item'><div class='xr-var-name'><span>tp</span></div><div class='xr-var-dims'>(time, latitude, longitude)</div><div class='xr-var-dtype'>float32</div><div class='xr-var-preview xr-preview'>...</div><input id='attrs-f994f786-f773-4b38-8f6b-e01ccb34b8e2' class='xr-var-attrs-in' type='checkbox' ><label for='attrs-f994f786-f773-4b38-8f6b-e01ccb34b8e2' title='Show/Hide attributes'><svg class='icon xr-icon-file-text2'><use xlink:href='#icon-file-text2'></use></svg></label><input id='data-57dda070-a63a-4ec3-ae51-1cff4876f0d6' class='xr-var-data-in' type='checkbox'><label for='data-57dda070-a63a-4ec3-ae51-1cff4876f0d6' title='Show/Hide data repr'><svg class='icon xr-icon-database'><use xlink:href='#icon-database'></use></svg></label><div class='xr-var-attrs'><dl class='xr-attrs'><dt><span>units :</span></dt><dd>m</dd><dt><span>long_name :</span></dt><dd>Total precipitation</dd></dl></div><div class='xr-var-data'><pre>[200991600 values with dtype=float32]</pre></div></li><li class='xr-var-item'><div class='xr-var-name'><span>swvl1</span></div><div class='xr-var-dims'>(time, latitude, longitude)</div><div class='xr-var-dtype'>float32</div><div class='xr-var-preview xr-preview'>...</div><input id='attrs-3400f610-082a-4ee4-b7af-936923e61a27' class='xr-var-attrs-in' type='checkbox' ><label for='attrs-3400f610-082a-4ee4-b7af-936923e61a27' title='Show/Hide attributes'><svg class='icon xr-icon-file-text2'><use xlink:href='#icon-file-text2'></use></svg></label><input id='data-35d7de2b-6579-4e1d-a511-2d80d5dac86d' class='xr-var-data-in' type='checkbox'><label for='data-35d7de2b-6579-4e1d-a511-2d80d5dac86d' title='Show/Hide data repr'><svg class='icon xr-icon-database'><use xlink:href='#icon-database'></use></svg></label><div class='xr-var-attrs'><dl class='xr-attrs'><dt><span>units :</span></dt><dd>m**3 m**-3</dd><dt><span>long_name :</span></dt><dd>Volumetric soil water layer 1</dd></dl></div><div class='xr-var-data'><pre>[200991600 values with dtype=float32]</pre></div></li></ul></div></li><li class='xr-section-item'><input id='section-b07c3b07-b6f2-466b-b518-2033cf161855' class='xr-section-summary-in' type='checkbox'  checked><label for='section-b07c3b07-b6f2-466b-b518-2033cf161855' class='xr-section-summary' >Attributes: <span>(2)</span></label><div class='xr-section-inline-details'></div><div class='xr-section-details'><dl class='xr-attrs'><dt><span>Conventions :</span></dt><dd>CF-1.6</dd><dt><span>history :</span></dt><dd>2020-11-25 11:37:48 GMT by grib_to_netcdf-2.16.0: /opt/ecmwf/eccodes/bin/grib_to_netcdf -o /cache/data5/adaptor.mars.internal-1606304256.5677047-27540-27-e6f4f9bf-4689-4e0d-980b-5a047795bcce.nc /cache/tmp/e6f4f9bf-4689-4e0d-980b-5a047795bcce-adaptor.mars.internal-1606304256.568646-27540-9-tmp.grib</dd></dl></div></li></ul></div></div>"
      ],
      "text/plain": [
       "<xarray.Dataset>\n",
       "Dimensions:    (latitude: 1801, longitude: 3600, time: 31)\n",
       "Coordinates:\n",
       "  * longitude  (longitude) float32 0.0 0.1 0.2 0.3 ... 359.6 359.7 359.8 359.9\n",
       "  * latitude   (latitude) float32 90.0 89.9 89.8 89.7 ... -89.8 -89.9 -90.0\n",
       "  * time       (time) datetime64[ns] 2019-12-01T12:00:00 ... 2019-12-31T12:00:00\n",
       "Data variables:\n",
       "    t2m        (time, latitude, longitude) float32 ...\n",
       "    tp         (time, latitude, longitude) float32 ...\n",
       "    swvl1      (time, latitude, longitude) float32 ...\n",
       "Attributes:\n",
       "    Conventions:  CF-1.6\n",
       "    history:      2020-11-25 11:37:48 GMT by grib_to_netcdf-2.16.0: /opt/ecmw..."
      ]
     },
     "execution_count": 3,
     "metadata": {},
     "output_type": "execute_result"
    }
   ],
   "source": [
    "ds_combine = xr.open_dataset(\"./wikilimoXArrayData.nc\")\n",
    "ds_combine"
   ]
  },
  {
   "cell_type": "code",
   "execution_count": 36,
   "metadata": {},
   "outputs": [
    {
     "data": {
      "text/html": [
       "<div>\n",
       "<style scoped>\n",
       "    .dataframe tbody tr th:only-of-type {\n",
       "        vertical-align: middle;\n",
       "    }\n",
       "\n",
       "    .dataframe tbody tr th {\n",
       "        vertical-align: top;\n",
       "    }\n",
       "\n",
       "    .dataframe thead th {\n",
       "        text-align: right;\n",
       "    }\n",
       "</style>\n",
       "<table border=\"1\" class=\"dataframe\">\n",
       "  <thead>\n",
       "    <tr style=\"text-align: right;\">\n",
       "      <th></th>\n",
       "      <th></th>\n",
       "      <th></th>\n",
       "      <th>t2m</th>\n",
       "      <th>tp</th>\n",
       "      <th>swvl1</th>\n",
       "    </tr>\n",
       "    <tr>\n",
       "      <th>latitude</th>\n",
       "      <th>longitude</th>\n",
       "      <th>time</th>\n",
       "      <th></th>\n",
       "      <th></th>\n",
       "      <th></th>\n",
       "    </tr>\n",
       "  </thead>\n",
       "  <tbody>\n",
       "    <tr>\n",
       "      <th rowspan=\"5\" valign=\"top\">90.0</th>\n",
       "      <th rowspan=\"5\" valign=\"top\">0.000000</th>\n",
       "      <th>2019-12-01 12:00:00</th>\n",
       "      <td>NaN</td>\n",
       "      <td>NaN</td>\n",
       "      <td>NaN</td>\n",
       "    </tr>\n",
       "    <tr>\n",
       "      <th>2019-12-02 12:00:00</th>\n",
       "      <td>NaN</td>\n",
       "      <td>NaN</td>\n",
       "      <td>NaN</td>\n",
       "    </tr>\n",
       "    <tr>\n",
       "      <th>2019-12-03 12:00:00</th>\n",
       "      <td>NaN</td>\n",
       "      <td>NaN</td>\n",
       "      <td>NaN</td>\n",
       "    </tr>\n",
       "    <tr>\n",
       "      <th>2019-12-04 12:00:00</th>\n",
       "      <td>NaN</td>\n",
       "      <td>NaN</td>\n",
       "      <td>NaN</td>\n",
       "    </tr>\n",
       "    <tr>\n",
       "      <th>2019-12-05 12:00:00</th>\n",
       "      <td>NaN</td>\n",
       "      <td>NaN</td>\n",
       "      <td>NaN</td>\n",
       "    </tr>\n",
       "    <tr>\n",
       "      <th>...</th>\n",
       "      <th>...</th>\n",
       "      <th>...</th>\n",
       "      <td>...</td>\n",
       "      <td>...</td>\n",
       "      <td>...</td>\n",
       "    </tr>\n",
       "    <tr>\n",
       "      <th rowspan=\"5\" valign=\"top\">-90.0</th>\n",
       "      <th rowspan=\"5\" valign=\"top\">359.899994</th>\n",
       "      <th>2019-12-27 12:00:00</th>\n",
       "      <td>246.587769</td>\n",
       "      <td>8.350611e-05</td>\n",
       "      <td>0.206098</td>\n",
       "    </tr>\n",
       "    <tr>\n",
       "      <th>2019-12-28 12:00:00</th>\n",
       "      <td>249.062820</td>\n",
       "      <td>1.202524e-04</td>\n",
       "      <td>0.206098</td>\n",
       "    </tr>\n",
       "    <tr>\n",
       "      <th>2019-12-29 12:00:00</th>\n",
       "      <td>246.191711</td>\n",
       "      <td>7.450581e-09</td>\n",
       "      <td>0.206098</td>\n",
       "    </tr>\n",
       "    <tr>\n",
       "      <th>2019-12-30 12:00:00</th>\n",
       "      <td>247.661133</td>\n",
       "      <td>1.336634e-05</td>\n",
       "      <td>0.206098</td>\n",
       "    </tr>\n",
       "    <tr>\n",
       "      <th>2019-12-31 12:00:00</th>\n",
       "      <td>243.946350</td>\n",
       "      <td>7.450581e-09</td>\n",
       "      <td>0.206098</td>\n",
       "    </tr>\n",
       "  </tbody>\n",
       "</table>\n",
       "<p>200991600 rows × 3 columns</p>\n",
       "</div>"
      ],
      "text/plain": [
       "                                                t2m            tp     swvl1\n",
       "latitude longitude  time                                                   \n",
       " 90.0    0.000000   2019-12-01 12:00:00         NaN           NaN       NaN\n",
       "                    2019-12-02 12:00:00         NaN           NaN       NaN\n",
       "                    2019-12-03 12:00:00         NaN           NaN       NaN\n",
       "                    2019-12-04 12:00:00         NaN           NaN       NaN\n",
       "                    2019-12-05 12:00:00         NaN           NaN       NaN\n",
       "...                                             ...           ...       ...\n",
       "-90.0    359.899994 2019-12-27 12:00:00  246.587769  8.350611e-05  0.206098\n",
       "                    2019-12-28 12:00:00  249.062820  1.202524e-04  0.206098\n",
       "                    2019-12-29 12:00:00  246.191711  7.450581e-09  0.206098\n",
       "                    2019-12-30 12:00:00  247.661133  1.336634e-05  0.206098\n",
       "                    2019-12-31 12:00:00  243.946350  7.450581e-09  0.206098\n",
       "\n",
       "[200991600 rows x 3 columns]"
      ]
     },
     "execution_count": 36,
     "metadata": {},
     "output_type": "execute_result"
    }
   ],
   "source": [
    "df = pd.read_pickle(\"./wikilimoData.pkl\")\n",
    "df"
   ]
  },
  {
   "cell_type": "markdown",
   "metadata": {},
   "source": [
    "**PREPROCESSING THE DATA**"
   ]
  },
  {
   "cell_type": "markdown",
   "metadata": {},
   "source": [
    "Finding number of rows with null values"
   ]
  },
  {
   "cell_type": "code",
   "execution_count": 3,
   "metadata": {},
   "outputs": [
    {
     "data": {
      "text/plain": [
       "t2m      132392847\n",
       "tp       132392847\n",
       "swvl1    132392847\n",
       "dtype: int64"
      ]
     },
     "execution_count": 3,
     "metadata": {},
     "output_type": "execute_result"
    }
   ],
   "source": [
    "df.isna().sum()"
   ]
  },
  {
   "cell_type": "markdown",
   "metadata": {},
   "source": [
    "Dropping the rows which have null values"
   ]
  },
  {
   "cell_type": "code",
   "execution_count": 37,
   "metadata": {},
   "outputs": [],
   "source": [
    "df= df.dropna()"
   ]
  },
  {
   "cell_type": "code",
   "execution_count": 5,
   "metadata": {},
   "outputs": [
    {
     "data": {
      "text/html": [
       "<div>\n",
       "<style scoped>\n",
       "    .dataframe tbody tr th:only-of-type {\n",
       "        vertical-align: middle;\n",
       "    }\n",
       "\n",
       "    .dataframe tbody tr th {\n",
       "        vertical-align: top;\n",
       "    }\n",
       "\n",
       "    .dataframe thead th {\n",
       "        text-align: right;\n",
       "    }\n",
       "</style>\n",
       "<table border=\"1\" class=\"dataframe\">\n",
       "  <thead>\n",
       "    <tr style=\"text-align: right;\">\n",
       "      <th></th>\n",
       "      <th></th>\n",
       "      <th></th>\n",
       "      <th>t2m</th>\n",
       "      <th>tp</th>\n",
       "      <th>swvl1</th>\n",
       "    </tr>\n",
       "    <tr>\n",
       "      <th>latitude</th>\n",
       "      <th>longitude</th>\n",
       "      <th>time</th>\n",
       "      <th></th>\n",
       "      <th></th>\n",
       "      <th></th>\n",
       "    </tr>\n",
       "  </thead>\n",
       "  <tbody>\n",
       "    <tr>\n",
       "      <th rowspan=\"5\" valign=\"top\">83.5</th>\n",
       "      <th rowspan=\"5\" valign=\"top\">323.399994</th>\n",
       "      <th>2019-12-01 12:00:00</th>\n",
       "      <td>252.746674</td>\n",
       "      <td>3.345311e-06</td>\n",
       "      <td>0.178162</td>\n",
       "    </tr>\n",
       "    <tr>\n",
       "      <th>2019-12-02 12:00:00</th>\n",
       "      <td>253.231079</td>\n",
       "      <td>7.450581e-09</td>\n",
       "      <td>0.178162</td>\n",
       "    </tr>\n",
       "    <tr>\n",
       "      <th>2019-12-03 12:00:00</th>\n",
       "      <td>252.360916</td>\n",
       "      <td>1.002848e-05</td>\n",
       "      <td>0.178162</td>\n",
       "    </tr>\n",
       "    <tr>\n",
       "      <th>2019-12-04 12:00:00</th>\n",
       "      <td>254.342712</td>\n",
       "      <td>6.683171e-06</td>\n",
       "      <td>0.178162</td>\n",
       "    </tr>\n",
       "    <tr>\n",
       "      <th>2019-12-05 12:00:00</th>\n",
       "      <td>252.896851</td>\n",
       "      <td>7.349253e-05</td>\n",
       "      <td>0.178162</td>\n",
       "    </tr>\n",
       "    <tr>\n",
       "      <th>...</th>\n",
       "      <th>...</th>\n",
       "      <th>...</th>\n",
       "      <td>...</td>\n",
       "      <td>...</td>\n",
       "      <td>...</td>\n",
       "    </tr>\n",
       "    <tr>\n",
       "      <th rowspan=\"5\" valign=\"top\">-90.0</th>\n",
       "      <th rowspan=\"5\" valign=\"top\">359.899994</th>\n",
       "      <th>2019-12-27 12:00:00</th>\n",
       "      <td>246.587769</td>\n",
       "      <td>8.350611e-05</td>\n",
       "      <td>0.206098</td>\n",
       "    </tr>\n",
       "    <tr>\n",
       "      <th>2019-12-28 12:00:00</th>\n",
       "      <td>249.062820</td>\n",
       "      <td>1.202524e-04</td>\n",
       "      <td>0.206098</td>\n",
       "    </tr>\n",
       "    <tr>\n",
       "      <th>2019-12-29 12:00:00</th>\n",
       "      <td>246.191711</td>\n",
       "      <td>7.450581e-09</td>\n",
       "      <td>0.206098</td>\n",
       "    </tr>\n",
       "    <tr>\n",
       "      <th>2019-12-30 12:00:00</th>\n",
       "      <td>247.661133</td>\n",
       "      <td>1.336634e-05</td>\n",
       "      <td>0.206098</td>\n",
       "    </tr>\n",
       "    <tr>\n",
       "      <th>2019-12-31 12:00:00</th>\n",
       "      <td>243.946350</td>\n",
       "      <td>7.450581e-09</td>\n",
       "      <td>0.206098</td>\n",
       "    </tr>\n",
       "  </tbody>\n",
       "</table>\n",
       "<p>68598753 rows × 3 columns</p>\n",
       "</div>"
      ],
      "text/plain": [
       "                                                t2m            tp     swvl1\n",
       "latitude longitude  time                                                   \n",
       " 83.5    323.399994 2019-12-01 12:00:00  252.746674  3.345311e-06  0.178162\n",
       "                    2019-12-02 12:00:00  253.231079  7.450581e-09  0.178162\n",
       "                    2019-12-03 12:00:00  252.360916  1.002848e-05  0.178162\n",
       "                    2019-12-04 12:00:00  254.342712  6.683171e-06  0.178162\n",
       "                    2019-12-05 12:00:00  252.896851  7.349253e-05  0.178162\n",
       "...                                             ...           ...       ...\n",
       "-90.0    359.899994 2019-12-27 12:00:00  246.587769  8.350611e-05  0.206098\n",
       "                    2019-12-28 12:00:00  249.062820  1.202524e-04  0.206098\n",
       "                    2019-12-29 12:00:00  246.191711  7.450581e-09  0.206098\n",
       "                    2019-12-30 12:00:00  247.661133  1.336634e-05  0.206098\n",
       "                    2019-12-31 12:00:00  243.946350  7.450581e-09  0.206098\n",
       "\n",
       "[68598753 rows x 3 columns]"
      ]
     },
     "execution_count": 5,
     "metadata": {},
     "output_type": "execute_result"
    }
   ],
   "source": [
    "df"
   ]
  },
  {
   "cell_type": "code",
   "execution_count": 38,
   "metadata": {},
   "outputs": [
    {
     "name": "stderr",
     "output_type": "stream",
     "text": [
      "<ipython-input-38-fc46ea5b3a2f>:1: SettingWithCopyWarning: \n",
      "A value is trying to be set on a copy of a slice from a DataFrame.\n",
      "Try using .loc[row_indexer,col_indexer] = value instead\n",
      "\n",
      "See the caveats in the documentation: https://pandas.pydata.org/pandas-docs/stable/user_guide/indexing.html#returning-a-view-versus-a-copy\n",
      "  df1['tp'] = np.log(df1['tp'])\n"
     ]
    }
   ],
   "source": [
    "df['tp'] = np.log(df['tp'])"
   ]
  },
  {
   "cell_type": "markdown",
   "metadata": {},
   "source": [
    "Performing log tranform to remove skewness of data"
   ]
  },
  {
   "cell_type": "code",
   "execution_count": 7,
   "metadata": {},
   "outputs": [
    {
     "data": {
      "text/html": [
       "<div>\n",
       "<style scoped>\n",
       "    .dataframe tbody tr th:only-of-type {\n",
       "        vertical-align: middle;\n",
       "    }\n",
       "\n",
       "    .dataframe tbody tr th {\n",
       "        vertical-align: top;\n",
       "    }\n",
       "\n",
       "    .dataframe thead th {\n",
       "        text-align: right;\n",
       "    }\n",
       "</style>\n",
       "<table border=\"1\" class=\"dataframe\">\n",
       "  <thead>\n",
       "    <tr style=\"text-align: right;\">\n",
       "      <th></th>\n",
       "      <th></th>\n",
       "      <th></th>\n",
       "      <th>t2m</th>\n",
       "      <th>tp</th>\n",
       "      <th>swvl1</th>\n",
       "    </tr>\n",
       "    <tr>\n",
       "      <th>latitude</th>\n",
       "      <th>longitude</th>\n",
       "      <th>time</th>\n",
       "      <th></th>\n",
       "      <th></th>\n",
       "      <th></th>\n",
       "    </tr>\n",
       "  </thead>\n",
       "  <tbody>\n",
       "    <tr>\n",
       "      <th rowspan=\"5\" valign=\"top\">83.5</th>\n",
       "      <th rowspan=\"5\" valign=\"top\">323.399994</th>\n",
       "      <th>2019-12-01 12:00:00</th>\n",
       "      <td>252.746674</td>\n",
       "      <td>-12.607951</td>\n",
       "      <td>0.178162</td>\n",
       "    </tr>\n",
       "    <tr>\n",
       "      <th>2019-12-02 12:00:00</th>\n",
       "      <td>253.231079</td>\n",
       "      <td>-18.714973</td>\n",
       "      <td>0.178162</td>\n",
       "    </tr>\n",
       "    <tr>\n",
       "      <th>2019-12-03 12:00:00</th>\n",
       "      <td>252.360916</td>\n",
       "      <td>-11.510081</td>\n",
       "      <td>0.178162</td>\n",
       "    </tr>\n",
       "    <tr>\n",
       "      <th>2019-12-04 12:00:00</th>\n",
       "      <td>254.342712</td>\n",
       "      <td>-11.915918</td>\n",
       "      <td>0.178162</td>\n",
       "    </tr>\n",
       "    <tr>\n",
       "      <th>2019-12-05 12:00:00</th>\n",
       "      <td>252.896851</td>\n",
       "      <td>-9.518327</td>\n",
       "      <td>0.178162</td>\n",
       "    </tr>\n",
       "    <tr>\n",
       "      <th>...</th>\n",
       "      <th>...</th>\n",
       "      <th>...</th>\n",
       "      <td>...</td>\n",
       "      <td>...</td>\n",
       "      <td>...</td>\n",
       "    </tr>\n",
       "    <tr>\n",
       "      <th rowspan=\"5\" valign=\"top\">-90.0</th>\n",
       "      <th rowspan=\"5\" valign=\"top\">359.899994</th>\n",
       "      <th>2019-12-27 12:00:00</th>\n",
       "      <td>246.587769</td>\n",
       "      <td>-9.390591</td>\n",
       "      <td>0.206098</td>\n",
       "    </tr>\n",
       "    <tr>\n",
       "      <th>2019-12-28 12:00:00</th>\n",
       "      <td>249.062820</td>\n",
       "      <td>-9.025918</td>\n",
       "      <td>0.206098</td>\n",
       "    </tr>\n",
       "    <tr>\n",
       "      <th>2019-12-29 12:00:00</th>\n",
       "      <td>246.191711</td>\n",
       "      <td>-18.714973</td>\n",
       "      <td>0.206098</td>\n",
       "    </tr>\n",
       "    <tr>\n",
       "      <th>2019-12-30 12:00:00</th>\n",
       "      <td>247.661133</td>\n",
       "      <td>-11.222771</td>\n",
       "      <td>0.206098</td>\n",
       "    </tr>\n",
       "    <tr>\n",
       "      <th>2019-12-31 12:00:00</th>\n",
       "      <td>243.946350</td>\n",
       "      <td>-18.714973</td>\n",
       "      <td>0.206098</td>\n",
       "    </tr>\n",
       "  </tbody>\n",
       "</table>\n",
       "<p>68598753 rows × 3 columns</p>\n",
       "</div>"
      ],
      "text/plain": [
       "                                                t2m         tp     swvl1\n",
       "latitude longitude  time                                                \n",
       " 83.5    323.399994 2019-12-01 12:00:00  252.746674 -12.607951  0.178162\n",
       "                    2019-12-02 12:00:00  253.231079 -18.714973  0.178162\n",
       "                    2019-12-03 12:00:00  252.360916 -11.510081  0.178162\n",
       "                    2019-12-04 12:00:00  254.342712 -11.915918  0.178162\n",
       "                    2019-12-05 12:00:00  252.896851  -9.518327  0.178162\n",
       "...                                             ...        ...       ...\n",
       "-90.0    359.899994 2019-12-27 12:00:00  246.587769  -9.390591  0.206098\n",
       "                    2019-12-28 12:00:00  249.062820  -9.025918  0.206098\n",
       "                    2019-12-29 12:00:00  246.191711 -18.714973  0.206098\n",
       "                    2019-12-30 12:00:00  247.661133 -11.222771  0.206098\n",
       "                    2019-12-31 12:00:00  243.946350 -18.714973  0.206098\n",
       "\n",
       "[68598753 rows x 3 columns]"
      ]
     },
     "execution_count": 7,
     "metadata": {},
     "output_type": "execute_result"
    }
   ],
   "source": [
    "df"
   ]
  },
  {
   "cell_type": "code",
   "execution_count": 8,
   "metadata": {},
   "outputs": [],
   "source": [
    "normalized_df=(df-df.min())/(df.max()-df.min())"
   ]
  },
  {
   "cell_type": "markdown",
   "metadata": {},
   "source": [
    "Performing min max normalization to \n",
    "avoid higher influence of temperature at 2m compared to\n",
    "volumetric soil water layer on predicting the precipitation\n",
    "of a region."
   ]
  },
  {
   "cell_type": "code",
   "execution_count": 9,
   "metadata": {},
   "outputs": [
    {
     "data": {
      "text/html": [
       "<div>\n",
       "<style scoped>\n",
       "    .dataframe tbody tr th:only-of-type {\n",
       "        vertical-align: middle;\n",
       "    }\n",
       "\n",
       "    .dataframe tbody tr th {\n",
       "        vertical-align: top;\n",
       "    }\n",
       "\n",
       "    .dataframe thead th {\n",
       "        text-align: right;\n",
       "    }\n",
       "</style>\n",
       "<table border=\"1\" class=\"dataframe\">\n",
       "  <thead>\n",
       "    <tr style=\"text-align: right;\">\n",
       "      <th></th>\n",
       "      <th></th>\n",
       "      <th></th>\n",
       "      <th>t2m</th>\n",
       "      <th>tp</th>\n",
       "      <th>swvl1</th>\n",
       "    </tr>\n",
       "    <tr>\n",
       "      <th>latitude</th>\n",
       "      <th>longitude</th>\n",
       "      <th>time</th>\n",
       "      <th></th>\n",
       "      <th></th>\n",
       "      <th></th>\n",
       "    </tr>\n",
       "  </thead>\n",
       "  <tbody>\n",
       "    <tr>\n",
       "      <th rowspan=\"5\" valign=\"top\">83.5</th>\n",
       "      <th rowspan=\"5\" valign=\"top\">323.399994</th>\n",
       "      <th>2019-12-01 12:00:00</th>\n",
       "      <td>0.326065</td>\n",
       "      <td>0.355146</td>\n",
       "      <td>0.232585</td>\n",
       "    </tr>\n",
       "    <tr>\n",
       "      <th>2019-12-02 12:00:00</th>\n",
       "      <td>0.331085</td>\n",
       "      <td>0.000000</td>\n",
       "      <td>0.232585</td>\n",
       "    </tr>\n",
       "    <tr>\n",
       "      <th>2019-12-03 12:00:00</th>\n",
       "      <td>0.322067</td>\n",
       "      <td>0.418991</td>\n",
       "      <td>0.232585</td>\n",
       "    </tr>\n",
       "    <tr>\n",
       "      <th>2019-12-04 12:00:00</th>\n",
       "      <td>0.342606</td>\n",
       "      <td>0.395390</td>\n",
       "      <td>0.232585</td>\n",
       "    </tr>\n",
       "    <tr>\n",
       "      <th>2019-12-05 12:00:00</th>\n",
       "      <td>0.327621</td>\n",
       "      <td>0.534819</td>\n",
       "      <td>0.232585</td>\n",
       "    </tr>\n",
       "    <tr>\n",
       "      <th>...</th>\n",
       "      <th>...</th>\n",
       "      <th>...</th>\n",
       "      <td>...</td>\n",
       "      <td>...</td>\n",
       "      <td>...</td>\n",
       "    </tr>\n",
       "    <tr>\n",
       "      <th rowspan=\"5\" valign=\"top\">-90.0</th>\n",
       "      <th rowspan=\"5\" valign=\"top\">359.899994</th>\n",
       "      <th>2019-12-27 12:00:00</th>\n",
       "      <td>0.262234</td>\n",
       "      <td>0.542248</td>\n",
       "      <td>0.269055</td>\n",
       "    </tr>\n",
       "    <tr>\n",
       "      <th>2019-12-28 12:00:00</th>\n",
       "      <td>0.287886</td>\n",
       "      <td>0.563455</td>\n",
       "      <td>0.269055</td>\n",
       "    </tr>\n",
       "    <tr>\n",
       "      <th>2019-12-29 12:00:00</th>\n",
       "      <td>0.258130</td>\n",
       "      <td>0.000000</td>\n",
       "      <td>0.269055</td>\n",
       "    </tr>\n",
       "    <tr>\n",
       "      <th>2019-12-30 12:00:00</th>\n",
       "      <td>0.273359</td>\n",
       "      <td>0.435700</td>\n",
       "      <td>0.269055</td>\n",
       "    </tr>\n",
       "    <tr>\n",
       "      <th>2019-12-31 12:00:00</th>\n",
       "      <td>0.234859</td>\n",
       "      <td>0.000000</td>\n",
       "      <td>0.269055</td>\n",
       "    </tr>\n",
       "  </tbody>\n",
       "</table>\n",
       "<p>68598753 rows × 3 columns</p>\n",
       "</div>"
      ],
      "text/plain": [
       "                                              t2m        tp     swvl1\n",
       "latitude longitude  time                                             \n",
       " 83.5    323.399994 2019-12-01 12:00:00  0.326065  0.355146  0.232585\n",
       "                    2019-12-02 12:00:00  0.331085  0.000000  0.232585\n",
       "                    2019-12-03 12:00:00  0.322067  0.418991  0.232585\n",
       "                    2019-12-04 12:00:00  0.342606  0.395390  0.232585\n",
       "                    2019-12-05 12:00:00  0.327621  0.534819  0.232585\n",
       "...                                           ...       ...       ...\n",
       "-90.0    359.899994 2019-12-27 12:00:00  0.262234  0.542248  0.269055\n",
       "                    2019-12-28 12:00:00  0.287886  0.563455  0.269055\n",
       "                    2019-12-29 12:00:00  0.258130  0.000000  0.269055\n",
       "                    2019-12-30 12:00:00  0.273359  0.435700  0.269055\n",
       "                    2019-12-31 12:00:00  0.234859  0.000000  0.269055\n",
       "\n",
       "[68598753 rows x 3 columns]"
      ]
     },
     "execution_count": 9,
     "metadata": {},
     "output_type": "execute_result"
    }
   ],
   "source": [
    "normalized_df"
   ]
  },
  {
   "cell_type": "markdown",
   "metadata": {},
   "source": [
    "**DEVELOPING THE MODEL**\n",
    "\n",
    "From the data visualization through plotting, we understood that \n",
    "the total precipitation of a specific geo spatial point varies wrt \n",
    "to the date highly but doesn't change much when comparing\n",
    "wrt to latitude and logitude, except for a few regions.\n",
    "\n",
    "But since the temperature at 2m and volumetric soil water layer also\n",
    "vary wrt to the time and latitude and longitude variables,\n",
    "we will build considering the simple case of just ignoring the \n",
    "time and geo spatial variables and predicting the total precipitation by considering\n",
    "dependence only on temperature at 2m and volumetric soil water layer."
   ]
  },
  {
   "cell_type": "markdown",
   "metadata": {},
   "source": [
    "Since we have sufficiently large data, we can afford to take\n",
    "large % of dataset for training, but considering \n",
    "the computation power available to build the model\n",
    "I am taking the split to be 60:20:20 for training, validation and\n",
    "testing.\n",
    "\n",
    "Splitting the data.\n",
    "60% for training\n",
    "20% for validation\n",
    "20% for testing and evaluating the model\n"
   ]
  },
  {
   "cell_type": "code",
   "execution_count": 10,
   "metadata": {},
   "outputs": [],
   "source": [
    "train_df = normalized_df[:int(0.8*68598753)]"
   ]
  },
  {
   "cell_type": "code",
   "execution_count": 11,
   "metadata": {},
   "outputs": [],
   "source": [
    "test_df = normalized_df[len(train_df.index)+1:]"
   ]
  },
  {
   "cell_type": "markdown",
   "metadata": {},
   "source": [
    "Taking the values to be predicted into lables."
   ]
  },
  {
   "cell_type": "code",
   "execution_count": 12,
   "metadata": {},
   "outputs": [],
   "source": [
    "train_features = train_df.copy()\n",
    "test_features = test_df.copy()\n",
    "\n",
    "train_labels = train_features['tp']\n",
    "test_labels = test_features['tp']"
   ]
  },
  {
   "cell_type": "code",
   "execution_count": 13,
   "metadata": {},
   "outputs": [
    {
     "data": {
      "text/plain": [
       "latitude    longitude   time               \n",
       " 83.500000  323.399994  2019-12-01 12:00:00    0.355146\n",
       "                        2019-12-02 12:00:00    0.000000\n",
       "                        2019-12-03 12:00:00    0.418991\n",
       "                        2019-12-04 12:00:00    0.395390\n",
       "                        2019-12-05 12:00:00    0.534819\n",
       "                                                 ...   \n",
       "-77.699997  239.899994  2019-12-08 12:00:00    0.355146\n",
       "                        2019-12-09 12:00:00    0.482837\n",
       "                        2019-12-10 12:00:00    0.563455\n",
       "                        2019-12-11 12:00:00    0.000000\n",
       "                        2019-12-12 12:00:00    0.588100\n",
       "Name: tp, Length: 54879002, dtype: float32"
      ]
     },
     "execution_count": 13,
     "metadata": {},
     "output_type": "execute_result"
    }
   ],
   "source": [
    "train_labels"
   ]
  },
  {
   "cell_type": "markdown",
   "metadata": {},
   "source": [
    "Defining normalizer to include normalization to the model layer"
   ]
  },
  {
   "cell_type": "code",
   "execution_count": 14,
   "metadata": {},
   "outputs": [
    {
     "name": "stdout",
     "output_type": "stream",
     "text": [
      "[0.53223556 0.37503037 0.35637796]\n"
     ]
    }
   ],
   "source": [
    "normalizer = preprocessing.Normalization()\n",
    "normalizer.adapt(np.array(train_features))\n",
    "print(normalizer.mean.numpy())"
   ]
  },
  {
   "cell_type": "code",
   "execution_count": 15,
   "metadata": {},
   "outputs": [],
   "source": [
    "def build_and_compile_model(norm):\n",
    "    \n",
    "  \"\"\"\n",
    "    Defining the Deep neural network model\n",
    "  \"\"\"  \n",
    "  model = keras.Sequential([\n",
    "      norm,\n",
    "      layers.Dense(64, activation='relu'),\n",
    "      layers.Dense(64, activation='relu'),\n",
    "      layers.Dense(1)\n",
    "  ])\n",
    "    \n",
    "  model.compile(loss='mean_squared_error',\n",
    "                optimizer=tf.keras.optimizers.Adam(0.001))\n",
    "  return model"
   ]
  },
  {
   "cell_type": "markdown",
   "metadata": {},
   "source": [
    "Mean squared error is taken as the loss function instead of \n",
    "mean absolute error, for faster \n",
    "convergence of the error and for imposing more penalty for huge\n",
    "errors compared to small errors.\n",
    "\n",
    "Using adam's optimizer to enhance the performance of the model.\n",
    "\n",
    "Using relu activation function."
   ]
  },
  {
   "cell_type": "code",
   "execution_count": 16,
   "metadata": {},
   "outputs": [
    {
     "name": "stdout",
     "output_type": "stream",
     "text": [
      "Model: \"sequential\"\n",
      "_________________________________________________________________\n",
      "Layer (type)                 Output Shape              Param #   \n",
      "=================================================================\n",
      "normalization (Normalization (None, 3)                 7         \n",
      "_________________________________________________________________\n",
      "dense (Dense)                (None, 64)                256       \n",
      "_________________________________________________________________\n",
      "dense_1 (Dense)              (None, 64)                4160      \n",
      "_________________________________________________________________\n",
      "dense_2 (Dense)              (None, 1)                 65        \n",
      "=================================================================\n",
      "Total params: 4,488\n",
      "Trainable params: 4,481\n",
      "Non-trainable params: 7\n",
      "_________________________________________________________________\n"
     ]
    }
   ],
   "source": [
    "dnn_model = build_and_compile_model(normalizer)\n",
    "dnn_model.summary()"
   ]
  },
  {
   "cell_type": "markdown",
   "metadata": {},
   "source": [
    "Training the model with 2 epochs and 20% validation split\n",
    "Taking only one epoch due to computational power limitation."
   ]
  },
  {
   "cell_type": "code",
   "execution_count": 17,
   "metadata": {},
   "outputs": [],
   "source": [
    "history = dnn_model.fit(\n",
    "    train_features, train_labels,\n",
    "    validation_split=0.2,\n",
    "    verbose=0, epochs=1)"
   ]
  },
  {
   "cell_type": "code",
   "execution_count": 26,
   "metadata": {},
   "outputs": [],
   "source": [
    "def plot_loss(history):\n",
    "  plt.plot(history.history['loss'], label='loss')\n",
    "  plt.plot(history.history['val_loss'], label='val_loss')\n",
    "  plt.ylim([0, 0.0000000001])\n",
    "  plt.xlabel('Epoch')\n",
    "  plt.ylabel('Error [MPG]')\n",
    "  plt.legend()\n",
    "  plt.grid(True)"
   ]
  },
  {
   "cell_type": "code",
   "execution_count": null,
   "metadata": {},
   "outputs": [],
   "source": [
    "#plot_loss(history)"
   ]
  },
  {
   "cell_type": "code",
   "execution_count": 28,
   "metadata": {},
   "outputs": [
    {
     "data": {
      "text/plain": [
       "[1.5288669601432048e-06]"
      ]
     },
     "execution_count": 28,
     "metadata": {},
     "output_type": "execute_result"
    }
   ],
   "source": [
    "history.history['loss']"
   ]
  },
  {
   "cell_type": "code",
   "execution_count": 29,
   "metadata": {},
   "outputs": [
    {
     "data": {
      "text/plain": [
       "[5.196705843424354e-10]"
      ]
     },
     "execution_count": 29,
     "metadata": {},
     "output_type": "execute_result"
    }
   ],
   "source": [
    "history.history['val_loss']"
   ]
  },
  {
   "cell_type": "markdown",
   "metadata": {},
   "source": [
    "Obtaining predictions"
   ]
  },
  {
   "cell_type": "code",
   "execution_count": 30,
   "metadata": {},
   "outputs": [],
   "source": [
    "test_predictions = dnn_model.predict(test_features).flatten()"
   ]
  },
  {
   "cell_type": "code",
   "execution_count": 32,
   "metadata": {},
   "outputs": [
    {
     "data": {
      "text/plain": [
       "array([5.0663948e-07, 4.7599190e-01, 7.3399782e-01, ..., 5.9604645e-07,\n",
       "       4.3569973e-01, 5.0663948e-07], dtype=float32)"
      ]
     },
     "execution_count": 32,
     "metadata": {},
     "output_type": "execute_result"
    }
   ],
   "source": [
    "test_predictions"
   ]
  },
  {
   "cell_type": "markdown",
   "metadata": {},
   "source": [
    "Scatter plot to visualize how close\n",
    "the true values and predictions are."
   ]
  },
  {
   "cell_type": "code",
   "execution_count": 31,
   "metadata": {},
   "outputs": [
    {
     "data": {
      "image/png": "[encoded data removed]",
      "text/plain": [
       "<Figure size 432x288 with 1 Axes>"
      ]
     },
     "metadata": {
      "needs_background": "light"
     },
     "output_type": "display_data"
    }
   ],
   "source": [
    "a = plt.axes(aspect='equal')\n",
    "plt.scatter(test_labels, test_predictions)\n",
    "plt.xlabel('True Values [MPG]')\n",
    "plt.ylabel('Predictions [MPG]')\n",
    "lims = [0, 1]\n",
    "plt.xlim(lims)\n",
    "plt.ylim(lims)\n",
    "_ = plt.plot(lims, lims)"
   ]
  },
  {
   "cell_type": "markdown",
   "metadata": {},
   "source": [
    "From the scatter plot, we see that there is an almost \n",
    "linear relationship between true values and predictions. \n",
    "\n",
    "We have chosen a medium capacity architecture for our model.\n",
    "The model is not overfitting or underfitting to the training data as it is giving close results to test data. \n",
    "\n",
    "If it were underfitting, we would have added a few more layers and re built the model.\n",
    "For example, the architecture would be: \n",
    "\n",
    "normalization (Normalization (None, 3)                  \n",
    "_________________________________________________________________\n",
    "dense (Dense)                (None, 512)            \n",
    "_________________________________________________________________\n",
    "dense_1 (Dense)              (None, 512)                  \n",
    "_________________________________________________________________\n",
    "dense_2 (Dense)              (None, 512)                      \n",
    "_________________________________________________________________\n",
    "dense_3 (Dense)              (None, 512)            \n",
    "_________________________________________________________________\n",
    "dense_4 (Dense)              (None, 1)                  \n",
    "_________________________________________________________________\n",
    "                    \n",
    "\n",
    "If it were overfitting we would have removed a hidden layer or changed the layer size and checked.\n",
    "\n",
    "We could have taken the following arcitecture:\n",
    "\n",
    "normalization (Normalization (None, 3)                      \n",
    "_________________________________________________________________\n",
    "dense (Dense)                (None, 16)                     \n",
    "_________________________________________________________________\n",
    "dense_1 (Dense)              (None, 16)                     \n",
    "_________________________________________________________________\n",
    "dense_2 (Dense)              (None, 1)                      \n",
    "_________________________________________________________________\n",
    "\n",
    "Or: \n",
    "\n",
    "normalization (Normalization (None, 3)                  \n",
    "_________________________________________________________________\n",
    "dense (Dense)                (None, 64)            \n",
    "_________________________________________________________________\n",
    "dense_2 (Dense)              (None, 1)                      \n",
    "_________________________________________________________________\n",
    "\n",
    "\n",
    "Along with adams optimzer we could also use tf.keras.optmizers.schedules to gradually reduce the learning rate,\n",
    "but since we are taking only single epoch, it is not taken. \n",
    "\n",
    "The functions would be:\n",
    "    step = np.linspace(0,100000)\n",
    "    lr = lr_schedule(step)\n",
    "\n",
    "We could also have added weight regularization to the loss function, to avoid overfitting. The code would change as:\n",
    "\n",
    "layers.Dense(64, activation='relu', kernel_regularizer=regularizers.l2(0.001)) \n",
    "\n",
    "Also could have considered adding drop out to few of the layers.\n",
    "The code would change as:\n",
    "      layers.Dense(64, activation='relu'),\n",
    "      layers.Dense(64, activation='relu')\n",
    "and could have added few combinations of the above techniques together."
   ]
  },
  {
   "cell_type": "code",
   "execution_count": 32,
   "metadata": {},
   "outputs": [],
   "source": [
    "error = test_predictions - test_labels"
   ]
  },
  {
   "cell_type": "code",
   "execution_count": 33,
   "metadata": {},
   "outputs": [
    {
     "data": {
      "text/plain": [
       "latitude    longitude   time               \n",
       "-77.699997  239.899994  2019-12-14 12:00:00   -0.000016\n",
       "                        2019-12-15 12:00:00   -0.000019\n",
       "                        2019-12-16 12:00:00   -0.000030\n",
       "                        2019-12-17 12:00:00   -0.000024\n",
       "                        2019-12-18 12:00:00   -0.000019\n",
       "                                                 ...   \n",
       "-90.000000  359.899994  2019-12-27 12:00:00   -0.000027\n",
       "                        2019-12-28 12:00:00   -0.000028\n",
       "                        2019-12-29 12:00:00   -0.000014\n",
       "                        2019-12-30 12:00:00   -0.000023\n",
       "                        2019-12-31 12:00:00   -0.000014\n",
       "Name: tp, Length: 13719750, dtype: float32"
      ]
     },
     "execution_count": 33,
     "metadata": {},
     "output_type": "execute_result"
    }
   ],
   "source": [
    "error"
   ]
  },
  {
   "cell_type": "code",
   "execution_count": 34,
   "metadata": {},
   "outputs": [
    {
     "data": {
      "image/png": "[encoded data removed]",
      "text/plain": [
       "<Figure size 432x288 with 1 Axes>"
      ]
     },
     "metadata": {
      "needs_background": "light"
     },
     "output_type": "display_data"
    }
   ],
   "source": [
    "plt.hist(error, bins=25)\n",
    "plt.xlabel('Prediction Error [MPG]')\n",
    "_ = plt.ylabel('Count')"
   ]
  },
  {
   "cell_type": "markdown",
   "metadata": {},
   "source": [
    "Histogram to visualize the error distribution\n",
    "\n",
    "From the histogram we see that the distribution of error range is \n",
    "towards negative x axis meaning that the most prediction values are less than true values.\n",
    "\n",
    "But a good behaviour we observe is that the count decreases as the \n",
    "error goes to extremes."
   ]
  },
  {
   "cell_type": "markdown",
   "metadata": {},
   "source": [
    "Applying  inverse log transform since we applied log transform to total precipitation data before training."
   ]
  },
  {
   "cell_type": "code",
   "execution_count": 43,
   "metadata": {},
   "outputs": [],
   "source": [
    "test_labels = np.exp(test_labels)\n",
    "test_predictions = np.exp(test_predictions)"
   ]
  },
  {
   "cell_type": "markdown",
   "metadata": {},
   "source": [
    "Finding percentage error"
   ]
  },
  {
   "cell_type": "code",
   "execution_count": 44,
   "metadata": {},
   "outputs": [],
   "source": [
    "def percentage_error(actual, predicted):\n",
    "    res = np.empty(actual.shape)\n",
    "    for j in range(actual.shape[0]):\n",
    "        if actual[j] != 0:\n",
    "            res[j] = (actual[j] - predicted[j]) / actual[j]\n",
    "        else:\n",
    "            res[j] = predicted[j] / np.mean(actual)\n",
    "    return res"
   ]
  },
  {
   "cell_type": "markdown",
   "metadata": {},
   "source": [
    "Taking MAPE as the metric to evaluate the model, since the\n",
    "values a extremely small, in range of e-7, using just MSE or RMSE\n",
    "will mislead in evaluating the model"
   ]
  },
  {
   "cell_type": "code",
   "execution_count": 45,
   "metadata": {},
   "outputs": [],
   "source": [
    "def mean_absolute_percentage_error(y_true, y_pred): \n",
    "    return np.mean(np.abs(percentage_error(np.asarray(y_true), np.asarray(y_pred)))) * 100"
   ]
  },
  {
   "cell_type": "code",
   "execution_count": 46,
   "metadata": {},
   "outputs": [
    {
     "name": "stdout",
     "output_type": "stream",
     "text": [
      "\n",
      "Mean absolute percentage error: 0.002062\n"
     ]
    }
   ],
   "source": [
    "print('\\nMean absolute percentage error: %f'%mean_absolute_percentage_error(test_labels,test_predictions))"
   ]
  },
  {
   "cell_type": "code",
   "execution_count": 47,
   "metadata": {},
   "outputs": [
    {
     "name": "stdout",
     "output_type": "stream",
     "text": [
      "WARNING:tensorflow:From /home/bavanya/Downloads/deb_packages/home/bavanya/Desktop/venv_python/lib/python3.8/site-packages/tensorflow/python/training/tracking/tracking.py:111: Model.state_updates (from tensorflow.python.keras.engine.training) is deprecated and will be removed in a future version.\n",
      "Instructions for updating:\n",
      "This property should not be used in TensorFlow 2.0, as updates are applied automatically.\n",
      "WARNING:tensorflow:From /home/bavanya/Downloads/deb_packages/home/bavanya/Desktop/venv_python/lib/python3.8/site-packages/tensorflow/python/training/tracking/tracking.py:111: Layer.updates (from tensorflow.python.keras.engine.base_layer) is deprecated and will be removed in a future version.\n",
      "Instructions for updating:\n",
      "This property should not be used in TensorFlow 2.0, as updates are applied automatically.\n",
      "INFO:tensorflow:Assets written to: dnn_model/assets\n"
     ]
    }
   ],
   "source": [
    "dnn_model.save('dnn_model')"
   ]
  },
  {
   "cell_type": "markdown",
   "metadata": {},
   "source": [
    "If we had considered the dependence of total precipitation on\n",
    "date and time too to predict, the total\n",
    "precipitation would have been more accurate while predicting for\n",
    "a specific date or time."
   ]
  }
 ],
 "metadata": {
  "kernelspec": {
   "display_name": "Python 3",
   "language": "python",
   "name": "python3"
  },
  "language_info": {
   "codemirror_mode": {
    "name": "ipython",
    "version": 3
   },
   "file_extension": ".py",
   "mimetype": "text/x-python",
   "name": "python",
   "nbconvert_exporter": "python",
   "pygments_lexer": "ipython3",
   "version": "3.8.3"
  }
 },
 "nbformat": 4,
 "nbformat_minor": 4
}
